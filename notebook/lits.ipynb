{
 "cells": [
  {
   "metadata": {},
   "cell_type": "markdown",
   "source": [
    "The following notebook is a data exploration notebook for LITS data set \n",
    "https://competitions.codalab.org/competitions/17094\n",
    "\n",
    "*Labels*\n",
    "- background - 0\n",
    "- Liver - 1\n",
    "- Liber lession - 2\n"
   ],
   "id": "99587c71d4c0b4b4"
  },
  {
   "metadata": {},
   "cell_type": "markdown",
   "source": "#### Imports",
   "id": "57dfc47ebb637427"
  },
  {
   "metadata": {
    "ExecuteTime": {
     "end_time": "2024-09-16T07:48:12.499067Z",
     "start_time": "2024-09-16T07:48:11.879512Z"
    }
   },
   "cell_type": "code",
   "source": [
    "import nibabel as nib\n",
    "import ipywidgets as widgets\n",
    "import matplotlib.pyplot as plt\n",
    "import numpy as np"
   ],
   "id": "19ea979d6d9f775e",
   "outputs": [],
   "execution_count": 1
  },
  {
   "metadata": {},
   "cell_type": "markdown",
   "source": "#### Functions",
   "id": "755fd2eac3594ed9"
  },
  {
   "metadata": {
    "ExecuteTime": {
     "end_time": "2024-09-16T07:48:12.514690Z",
     "start_time": "2024-09-16T07:48:12.499067Z"
    }
   },
   "cell_type": "code",
   "source": [
    "def display_slice_with_gt(slice_index, alpha=0.5):\n",
    "    plt.figure(figsize=(6, 6))\n",
    "    \n",
    "    # Display the image slice\n",
    "    plt.imshow(ct_image_data[:, :, slice_index], cmap=\"gray\")\n",
    "    \n",
    "    # Overlay the GT slice with transparency\n",
    "    plt.imshow(gt_image_data[:, :, slice_index], cmap=\"jet\", alpha=alpha)  # 'jet' colormap for GT\n",
    "    \n",
    "    plt.title(f\"Slice {slice_index + 1} of {num_slices}\")\n",
    "    plt.axis('off')  # Turn off axis labels\n",
    "    plt.show()"
   ],
   "id": "c226e8764575137d",
   "outputs": [],
   "execution_count": 2
  },
  {
   "metadata": {},
   "cell_type": "markdown",
   "source": "#### Inputs",
   "id": "a6541d46f3134c85"
  },
  {
   "metadata": {
    "ExecuteTime": {
     "end_time": "2024-09-16T09:00:56.896583Z",
     "start_time": "2024-09-16T09:00:56.881651Z"
    }
   },
   "cell_type": "code",
   "source": [
    "idx = 5\n",
    "gt_path = fr'C:\\Users\\97254\\Desktop\\Resources\\TAU\\dl_medical_imaging\\project\\datasets\\LITS\\ct\\Training Batch 1\\segmentation-{idx}.nii'\n",
    "ct_path = fr'C:\\Users\\97254\\Desktop\\Resources\\TAU\\dl_medical_imaging\\project\\datasets\\LITS\\ct\\Training Batch 1\\volume-{idx}.nii'"
   ],
   "id": "ec595b1e09f30b1f",
   "outputs": [],
   "execution_count": 10
  },
  {
   "metadata": {
    "ExecuteTime": {
     "end_time": "2024-09-16T09:00:56.907686Z",
     "start_time": "2024-09-16T09:00:56.896583Z"
    }
   },
   "cell_type": "code",
   "source": [
    "gt_img = nib.load(gt_path)\n",
    "ct_img = nib.load(ct_path)"
   ],
   "id": "faa5d9d58c005e05",
   "outputs": [],
   "execution_count": 11
  },
  {
   "metadata": {
    "ExecuteTime": {
     "end_time": "2024-09-16T09:00:57.910312Z",
     "start_time": "2024-09-16T09:00:56.909221Z"
    }
   },
   "cell_type": "code",
   "source": [
    "gt_image_data = gt_img.get_fdata()\n",
    "ct_image_data = ct_img.get_fdata()"
   ],
   "id": "411f8f3ce8e7dbce",
   "outputs": [],
   "execution_count": 12
  },
  {
   "metadata": {
    "ExecuteTime": {
     "end_time": "2024-09-16T09:09:12.208624Z",
     "start_time": "2024-09-16T09:09:12.192989Z"
    }
   },
   "cell_type": "code",
   "source": "gt_image_data.shape",
   "id": "9d9e50fe993e0fb9",
   "outputs": [
    {
     "data": {
      "text/plain": [
       "(512, 512, 537)"
      ]
     },
     "execution_count": 19,
     "metadata": {},
     "output_type": "execute_result"
    }
   ],
   "execution_count": 19
  },
  {
   "metadata": {
    "ExecuteTime": {
     "end_time": "2024-09-16T09:10:10.079008Z",
     "start_time": "2024-09-16T09:10:10.053376Z"
    }
   },
   "cell_type": "code",
   "source": "np.unique(gt_image_data[:,:,450])",
   "id": "d28bfe3c36aa0051",
   "outputs": [
    {
     "data": {
      "text/plain": [
       "array([0., 1.])"
      ]
     },
     "execution_count": 21,
     "metadata": {},
     "output_type": "execute_result"
    }
   ],
   "execution_count": 21
  },
  {
   "metadata": {
    "ExecuteTime": {
     "end_time": "2024-09-16T09:00:57.925934Z",
     "start_time": "2024-09-16T09:00:57.910312Z"
    }
   },
   "cell_type": "code",
   "source": "num_slices = ct_image_data.shape[2]",
   "id": "de71c64089fe89be",
   "outputs": [],
   "execution_count": 13
  },
  {
   "metadata": {
    "ExecuteTime": {
     "end_time": "2024-09-16T09:00:57.941560Z",
     "start_time": "2024-09-16T09:00:57.925934Z"
    }
   },
   "cell_type": "code",
   "source": [
    "slice_slider = widgets.IntSlider(min=0, max=num_slices-1, step=1, description=\"Slice\")\n",
    "alpha_slider = widgets.FloatSlider(min=0.0, max=1.0, step=0.1, value=0.5, description=\"Alpha\")"
   ],
   "id": "9a002f8f7eba9315",
   "outputs": [],
   "execution_count": 14
  },
  {
   "metadata": {
    "ExecuteTime": {
     "end_time": "2024-09-16T09:00:58.082176Z",
     "start_time": "2024-09-16T09:00:57.941560Z"
    }
   },
   "cell_type": "code",
   "source": "widgets.interact(display_slice_with_gt, slice_index=slice_slider, alpha=alpha_slider)",
   "id": "3c44c88a2c59eb9e",
   "outputs": [
    {
     "data": {
      "text/plain": [
       "interactive(children=(IntSlider(value=0, description='Slice', max=536), FloatSlider(value=0.5, description='Al…"
      ],
      "application/vnd.jupyter.widget-view+json": {
       "version_major": 2,
       "version_minor": 0,
       "model_id": "8ff5bbbf030f4b73b1f726a53d6b4b65"
      }
     },
     "metadata": {},
     "output_type": "display_data"
    },
    {
     "data": {
      "text/plain": [
       "<function __main__.display_slice_with_gt(slice_index, alpha=0.5)>"
      ]
     },
     "execution_count": 15,
     "metadata": {},
     "output_type": "execute_result"
    }
   ],
   "execution_count": 15
  },
  {
   "metadata": {
    "ExecuteTime": {
     "end_time": "2024-09-16T09:00:58.097792Z",
     "start_time": "2024-09-16T09:00:58.082176Z"
    }
   },
   "cell_type": "code",
   "source": "",
   "id": "ab48a7aad43defa",
   "outputs": [],
   "execution_count": 15
  }
 ],
 "metadata": {
  "kernelspec": {
   "display_name": "Python 3",
   "language": "python",
   "name": "python3"
  },
  "language_info": {
   "codemirror_mode": {
    "name": "ipython",
    "version": 2
   },
   "file_extension": ".py",
   "mimetype": "text/x-python",
   "name": "python",
   "nbconvert_exporter": "python",
   "pygments_lexer": "ipython2",
   "version": "2.7.6"
  }
 },
 "nbformat": 4,
 "nbformat_minor": 5
}
