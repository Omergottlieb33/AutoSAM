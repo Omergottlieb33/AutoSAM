{
 "cells": [
  {
   "metadata": {
    "ExecuteTime": {
     "end_time": "2024-09-06T15:06:00.222096Z",
     "start_time": "2024-09-06T15:05:55.709123Z"
    }
   },
   "cell_type": "code",
   "source": [
    "! pip install nibabel\n",
    "! pip install matplotlib\n",
    "! pip install ipywidgets"
   ],
   "id": "975b9a2809b97e2d",
   "outputs": [
    {
     "name": "stdout",
     "output_type": "stream",
     "text": [
      "Requirement already satisfied: nibabel in c:\\users\\97254\\desktop\\git\\autosam\\.venv\\lib\\site-packages (5.2.1)\n",
      "Requirement already satisfied: numpy>=1.20 in c:\\users\\97254\\desktop\\git\\autosam\\.venv\\lib\\site-packages (from nibabel) (2.0.1)\n",
      "Requirement already satisfied: packaging>=17 in c:\\users\\97254\\desktop\\git\\autosam\\.venv\\lib\\site-packages (from nibabel) (24.1)\n"
     ]
    },
    {
     "name": "stderr",
     "output_type": "stream",
     "text": [
      "\n",
      "[notice] A new release of pip is available: 23.2.1 -> 24.2\n",
      "[notice] To update, run: python.exe -m pip install --upgrade pip\n"
     ]
    },
    {
     "name": "stdout",
     "output_type": "stream",
     "text": [
      "Requirement already satisfied: matplotlib in c:\\users\\97254\\desktop\\git\\autosam\\.venv\\lib\\site-packages (3.9.2)\n",
      "Requirement already satisfied: contourpy>=1.0.1 in c:\\users\\97254\\desktop\\git\\autosam\\.venv\\lib\\site-packages (from matplotlib) (1.3.0)\n",
      "Requirement already satisfied: cycler>=0.10 in c:\\users\\97254\\desktop\\git\\autosam\\.venv\\lib\\site-packages (from matplotlib) (0.12.1)\n",
      "Requirement already satisfied: fonttools>=4.22.0 in c:\\users\\97254\\desktop\\git\\autosam\\.venv\\lib\\site-packages (from matplotlib) (4.53.1)\n",
      "Requirement already satisfied: kiwisolver>=1.3.1 in c:\\users\\97254\\desktop\\git\\autosam\\.venv\\lib\\site-packages (from matplotlib) (1.4.7)\n",
      "Requirement already satisfied: numpy>=1.23 in c:\\users\\97254\\desktop\\git\\autosam\\.venv\\lib\\site-packages (from matplotlib) (2.0.1)\n",
      "Requirement already satisfied: packaging>=20.0 in c:\\users\\97254\\desktop\\git\\autosam\\.venv\\lib\\site-packages (from matplotlib) (24.1)\n",
      "Requirement already satisfied: pillow>=8 in c:\\users\\97254\\desktop\\git\\autosam\\.venv\\lib\\site-packages (from matplotlib) (10.4.0)\n",
      "Requirement already satisfied: pyparsing>=2.3.1 in c:\\users\\97254\\desktop\\git\\autosam\\.venv\\lib\\site-packages (from matplotlib) (3.1.4)\n",
      "Requirement already satisfied: python-dateutil>=2.7 in c:\\users\\97254\\desktop\\git\\autosam\\.venv\\lib\\site-packages (from matplotlib) (2.9.0.post0)\n",
      "Requirement already satisfied: six>=1.5 in c:\\users\\97254\\desktop\\git\\autosam\\.venv\\lib\\site-packages (from python-dateutil>=2.7->matplotlib) (1.16.0)\n"
     ]
    },
    {
     "name": "stderr",
     "output_type": "stream",
     "text": [
      "\n",
      "[notice] A new release of pip is available: 23.2.1 -> 24.2\n",
      "[notice] To update, run: python.exe -m pip install --upgrade pip\n"
     ]
    },
    {
     "name": "stdout",
     "output_type": "stream",
     "text": [
      "Requirement already satisfied: ipywidgets in c:\\users\\97254\\desktop\\git\\autosam\\.venv\\lib\\site-packages (8.1.3)\n",
      "Requirement already satisfied: comm>=0.1.3 in c:\\users\\97254\\desktop\\git\\autosam\\.venv\\lib\\site-packages (from ipywidgets) (0.2.2)\n",
      "Requirement already satisfied: ipython>=6.1.0 in c:\\users\\97254\\desktop\\git\\autosam\\.venv\\lib\\site-packages (from ipywidgets) (8.26.0)\n",
      "Requirement already satisfied: traitlets>=4.3.1 in c:\\users\\97254\\desktop\\git\\autosam\\.venv\\lib\\site-packages (from ipywidgets) (5.14.3)\n",
      "Requirement already satisfied: widgetsnbextension~=4.0.11 in c:\\users\\97254\\desktop\\git\\autosam\\.venv\\lib\\site-packages (from ipywidgets) (4.0.11)\n",
      "Requirement already satisfied: jupyterlab-widgets~=3.0.11 in c:\\users\\97254\\desktop\\git\\autosam\\.venv\\lib\\site-packages (from ipywidgets) (3.0.11)\n",
      "Requirement already satisfied: decorator in c:\\users\\97254\\desktop\\git\\autosam\\.venv\\lib\\site-packages (from ipython>=6.1.0->ipywidgets) (5.1.1)\n",
      "Requirement already satisfied: jedi>=0.16 in c:\\users\\97254\\desktop\\git\\autosam\\.venv\\lib\\site-packages (from ipython>=6.1.0->ipywidgets) (0.19.1)\n",
      "Requirement already satisfied: matplotlib-inline in c:\\users\\97254\\desktop\\git\\autosam\\.venv\\lib\\site-packages (from ipython>=6.1.0->ipywidgets) (0.1.7)\n",
      "Requirement already satisfied: prompt-toolkit<3.1.0,>=3.0.41 in c:\\users\\97254\\desktop\\git\\autosam\\.venv\\lib\\site-packages (from ipython>=6.1.0->ipywidgets) (3.0.47)\n",
      "Requirement already satisfied: pygments>=2.4.0 in c:\\users\\97254\\desktop\\git\\autosam\\.venv\\lib\\site-packages (from ipython>=6.1.0->ipywidgets) (2.18.0)\n",
      "Requirement already satisfied: stack-data in c:\\users\\97254\\desktop\\git\\autosam\\.venv\\lib\\site-packages (from ipython>=6.1.0->ipywidgets) (0.6.3)\n",
      "Requirement already satisfied: exceptiongroup in c:\\users\\97254\\desktop\\git\\autosam\\.venv\\lib\\site-packages (from ipython>=6.1.0->ipywidgets) (1.2.2)\n",
      "Requirement already satisfied: typing-extensions>=4.6 in c:\\users\\97254\\desktop\\git\\autosam\\.venv\\lib\\site-packages (from ipython>=6.1.0->ipywidgets) (4.12.2)\n",
      "Requirement already satisfied: colorama in c:\\users\\97254\\desktop\\git\\autosam\\.venv\\lib\\site-packages (from ipython>=6.1.0->ipywidgets) (0.4.6)\n",
      "Requirement already satisfied: parso<0.9.0,>=0.8.3 in c:\\users\\97254\\desktop\\git\\autosam\\.venv\\lib\\site-packages (from jedi>=0.16->ipython>=6.1.0->ipywidgets) (0.8.4)\n",
      "Requirement already satisfied: wcwidth in c:\\users\\97254\\desktop\\git\\autosam\\.venv\\lib\\site-packages (from prompt-toolkit<3.1.0,>=3.0.41->ipython>=6.1.0->ipywidgets) (0.2.13)\n",
      "Requirement already satisfied: executing>=1.2.0 in c:\\users\\97254\\desktop\\git\\autosam\\.venv\\lib\\site-packages (from stack-data->ipython>=6.1.0->ipywidgets) (2.0.1)\n",
      "Requirement already satisfied: asttokens>=2.1.0 in c:\\users\\97254\\desktop\\git\\autosam\\.venv\\lib\\site-packages (from stack-data->ipython>=6.1.0->ipywidgets) (2.4.1)\n",
      "Requirement already satisfied: pure-eval in c:\\users\\97254\\desktop\\git\\autosam\\.venv\\lib\\site-packages (from stack-data->ipython>=6.1.0->ipywidgets) (0.2.3)\n",
      "Requirement already satisfied: six>=1.12.0 in c:\\users\\97254\\desktop\\git\\autosam\\.venv\\lib\\site-packages (from asttokens>=2.1.0->stack-data->ipython>=6.1.0->ipywidgets) (1.16.0)\n"
     ]
    },
    {
     "name": "stderr",
     "output_type": "stream",
     "text": [
      "\n",
      "[notice] A new release of pip is available: 23.2.1 -> 24.2\n",
      "[notice] To update, run: python.exe -m pip install --upgrade pip\n"
     ]
    }
   ],
   "execution_count": 85
  },
  {
   "metadata": {},
   "cell_type": "markdown",
   "source": "#### Imports",
   "id": "ae9ffc6d256a7c"
  },
  {
   "metadata": {
    "ExecuteTime": {
     "end_time": "2024-09-06T15:06:00.237801Z",
     "start_time": "2024-09-06T15:06:00.222096Z"
    }
   },
   "cell_type": "code",
   "source": [
    "import os\n",
    "import numpy as np\n",
    "import nibabel as nib\n",
    "import ipywidgets as widgets\n",
    "import matplotlib.pyplot as plt\n",
    "from IPython.display import display"
   ],
   "id": "c01dff32f8b8623b",
   "outputs": [],
   "execution_count": 86
  },
  {
   "metadata": {},
   "cell_type": "markdown",
   "source": "#### Functions",
   "id": "ad59487e176d37c0"
  },
  {
   "metadata": {
    "ExecuteTime": {
     "end_time": "2024-09-06T15:06:00.253592Z",
     "start_time": "2024-09-06T15:06:00.237801Z"
    }
   },
   "cell_type": "code",
   "source": [
    "def display_slice_with_gt(slice_index, alpha=0.5):\n",
    "    plt.figure(figsize=(6, 6))\n",
    "    \n",
    "    # Display the image slice\n",
    "    plt.imshow(ct_image_data[:, :, slice_index], cmap=\"gray\")\n",
    "    \n",
    "    # Overlay the GT slice with transparency\n",
    "    plt.imshow(gt_image_data[:, :, slice_index], cmap=\"jet\", alpha=alpha)  # 'jet' colormap for GT\n",
    "    \n",
    "    plt.title(f\"Slice {slice_index + 1} of {num_slices}\")\n",
    "    plt.axis('off')  # Turn off axis labels\n",
    "    plt.show()"
   ],
   "id": "d30d134b079bf29f",
   "outputs": [],
   "execution_count": 87
  },
  {
   "metadata": {},
   "cell_type": "markdown",
   "source": "#### Input",
   "id": "be1190d211d79742"
  },
  {
   "metadata": {
    "ExecuteTime": {
     "end_time": "2024-09-06T15:06:00.269422Z",
     "start_time": "2024-09-06T15:06:00.254419Z"
    }
   },
   "cell_type": "code",
   "source": "dataset_path = r'C:\\Users\\97254\\Desktop\\Resources\\TAU\\DL_Medival_imaging\\project\\datasets\\segthor\\train\\train'",
   "id": "84555495596e173e",
   "outputs": [],
   "execution_count": 88
  },
  {
   "metadata": {
    "ExecuteTime": {
     "end_time": "2024-09-06T15:06:00.285228Z",
     "start_time": "2024-09-06T15:06:00.269422Z"
    }
   },
   "cell_type": "code",
   "source": "patient_dir = os.path.join(dataset_path,os.listdir(dataset_path)[0])",
   "id": "a88810a78925f4a1",
   "outputs": [],
   "execution_count": 89
  },
  {
   "metadata": {
    "ExecuteTime": {
     "end_time": "2024-09-06T15:06:00.301133Z",
     "start_time": "2024-09-06T15:06:00.285228Z"
    }
   },
   "cell_type": "code",
   "source": "patient_id = os.path.basename(patient_dir)",
   "id": "891dd74a287f8c30",
   "outputs": [],
   "execution_count": 90
  },
  {
   "metadata": {
    "ExecuteTime": {
     "end_time": "2024-09-06T15:06:00.316813Z",
     "start_time": "2024-09-06T15:06:00.301133Z"
    }
   },
   "cell_type": "code",
   "source": [
    "gt_path = os.path.join(patient_dir,'GT.nii.gz')\n",
    "ct_path = os.path.join(patient_dir, patient_id + '.nii.gz')"
   ],
   "id": "46868f8403416b61",
   "outputs": [],
   "execution_count": 91
  },
  {
   "metadata": {
    "ExecuteTime": {
     "end_time": "2024-09-06T15:06:00.332434Z",
     "start_time": "2024-09-06T15:06:00.316813Z"
    }
   },
   "cell_type": "code",
   "source": [
    "gt_img = nib.load(gt_path)\n",
    "ct_img = nib.load(ct_path)"
   ],
   "id": "bf76f4a11824051c",
   "outputs": [],
   "execution_count": 92
  },
  {
   "metadata": {
    "ExecuteTime": {
     "end_time": "2024-09-06T15:06:01.316990Z",
     "start_time": "2024-09-06T15:06:00.332434Z"
    }
   },
   "cell_type": "code",
   "source": [
    "gt_image_data = gt_img.get_fdata()\n",
    "ct_image_data = ct_img.get_fdata()"
   ],
   "id": "463eb4faf4efa36d",
   "outputs": [],
   "execution_count": 93
  },
  {
   "metadata": {
    "ExecuteTime": {
     "end_time": "2024-09-06T15:06:01.332901Z",
     "start_time": "2024-09-06T15:06:01.316990Z"
    }
   },
   "cell_type": "code",
   "source": "assert ct_image_data.shape == gt_image_data.shape, \"Image and GT must have the same dimensions\"",
   "id": "30ebc1bf63d9e937",
   "outputs": [],
   "execution_count": 94
  },
  {
   "metadata": {
    "ExecuteTime": {
     "end_time": "2024-09-06T15:06:01.348939Z",
     "start_time": "2024-09-06T15:06:01.332901Z"
    }
   },
   "cell_type": "code",
   "source": "num_slices = ct_image_data.shape[2]",
   "id": "9965e8a3f1106400",
   "outputs": [],
   "execution_count": 95
  },
  {
   "metadata": {
    "ExecuteTime": {
     "end_time": "2024-09-06T15:06:01.364673Z",
     "start_time": "2024-09-06T15:06:01.350271Z"
    }
   },
   "cell_type": "code",
   "source": [
    "slice_slider = widgets.IntSlider(min=0, max=num_slices-1, step=1, description=\"Slice\")\n",
    "alpha_slider = widgets.FloatSlider(min=0.0, max=1.0, step=0.1, value=0.5, description=\"Alpha\")"
   ],
   "id": "d20e8c8d3dc89df8",
   "outputs": [],
   "execution_count": 96
  },
  {
   "metadata": {
    "ExecuteTime": {
     "end_time": "2024-09-06T15:06:01.564831Z",
     "start_time": "2024-09-06T15:06:01.364673Z"
    }
   },
   "cell_type": "code",
   "source": "widgets.interact(display_slice_with_gt, slice_index=slice_slider, alpha=alpha_slider)",
   "id": "6ea473a98535a559",
   "outputs": [
    {
     "data": {
      "text/plain": [
       "interactive(children=(IntSlider(value=0, description='Slice', max=228), FloatSlider(value=0.5, description='Al…"
      ],
      "application/vnd.jupyter.widget-view+json": {
       "version_major": 2,
       "version_minor": 0,
       "model_id": "d42382bd825d4f708c7998ff8aafcfca"
      }
     },
     "metadata": {},
     "output_type": "display_data"
    },
    {
     "data": {
      "text/plain": [
       "<function __main__.display_slice_with_gt(slice_index, alpha=0.5)>"
      ]
     },
     "execution_count": 97,
     "metadata": {},
     "output_type": "execute_result"
    }
   ],
   "execution_count": 97
  }
 ],
 "metadata": {
  "kernelspec": {
   "display_name": "Python 3",
   "language": "python",
   "name": "python3"
  },
  "language_info": {
   "codemirror_mode": {
    "name": "ipython",
    "version": 2
   },
   "file_extension": ".py",
   "mimetype": "text/x-python",
   "name": "python",
   "nbconvert_exporter": "python",
   "pygments_lexer": "ipython2",
   "version": "2.7.6"
  }
 },
 "nbformat": 4,
 "nbformat_minor": 5
}
