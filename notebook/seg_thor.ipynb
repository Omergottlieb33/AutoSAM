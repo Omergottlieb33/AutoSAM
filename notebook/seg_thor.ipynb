{
 "cells": [
  {
   "metadata": {
    "ExecuteTime": {
     "end_time": "2024-09-06T14:41:36.804143Z",
     "start_time": "2024-09-06T14:41:32.611900Z"
    }
   },
   "cell_type": "code",
   "source": "! pip install nibabel",
   "id": "6a4c1f0b9273aa31",
   "outputs": [
    {
     "name": "stdout",
     "output_type": "stream",
     "text": [
      "Collecting nibabel\n",
      "  Obtaining dependency information for nibabel from https://files.pythonhosted.org/packages/77/3f/ce43b8c2ccc4a7913a87c4d425aaf0080ea3abf947587e47dc2025981a17/nibabel-5.2.1-py3-none-any.whl.metadata\n",
      "  Downloading nibabel-5.2.1-py3-none-any.whl.metadata (8.8 kB)\n",
      "Requirement already satisfied: numpy>=1.20 in c:\\users\\97254\\desktop\\git\\autosam\\.venv\\lib\\site-packages (from nibabel) (2.0.1)\n",
      "Requirement already satisfied: packaging>=17 in c:\\users\\97254\\desktop\\git\\autosam\\.venv\\lib\\site-packages (from nibabel) (24.1)\n",
      "Downloading nibabel-5.2.1-py3-none-any.whl (3.3 MB)\n",
      "   ---------------------------------------- 0.0/3.3 MB ? eta -:--:--\n",
      "   ---------------------------------------- 0.0/3.3 MB 660.6 kB/s eta 0:00:05\n",
      "   - -------------------------------------- 0.1/3.3 MB 1.1 MB/s eta 0:00:04\n",
      "   - -------------------------------------- 0.2/3.3 MB 1.1 MB/s eta 0:00:03\n",
      "   --- ------------------------------------ 0.3/3.3 MB 1.7 MB/s eta 0:00:02\n",
      "   ------ --------------------------------- 0.5/3.3 MB 2.3 MB/s eta 0:00:02\n",
      "   ---------- ----------------------------- 0.8/3.3 MB 3.1 MB/s eta 0:00:01\n",
      "   ---------------- ----------------------- 1.3/3.3 MB 4.1 MB/s eta 0:00:01\n",
      "   ------------------------- -------------- 2.1/3.3 MB 5.4 MB/s eta 0:00:01\n",
      "   ------------------------------------- -- 3.1/3.3 MB 7.1 MB/s eta 0:00:01\n",
      "   ---------------------------------------- 3.3/3.3 MB 7.3 MB/s eta 0:00:00\n",
      "Installing collected packages: nibabel\n",
      "Successfully installed nibabel-5.2.1\n"
     ]
    },
    {
     "name": "stderr",
     "output_type": "stream",
     "text": [
      "\n",
      "[notice] A new release of pip is available: 23.2.1 -> 24.2\n",
      "[notice] To update, run: python.exe -m pip install --upgrade pip\n"
     ]
    }
   ],
   "execution_count": 10
  },
  {
   "metadata": {
    "ExecuteTime": {
     "end_time": "2024-09-06T14:48:01.506711Z",
     "start_time": "2024-09-06T14:47:53.251252Z"
    }
   },
   "cell_type": "code",
   "source": "!pip install matplotlib",
   "id": "d35730caf818566d",
   "outputs": [
    {
     "name": "stdout",
     "output_type": "stream",
     "text": [
      "Collecting matplotlib\n",
      "  Obtaining dependency information for matplotlib from https://files.pythonhosted.org/packages/09/6c/0fa50c001340a45cde44853c116d6551aea741e59a7261c38f473b53553b/matplotlib-3.9.2-cp310-cp310-win_amd64.whl.metadata\n",
      "  Downloading matplotlib-3.9.2-cp310-cp310-win_amd64.whl.metadata (11 kB)\n",
      "Collecting contourpy>=1.0.1 (from matplotlib)\n",
      "  Obtaining dependency information for contourpy>=1.0.1 from https://files.pythonhosted.org/packages/a9/97/3f89bba79ff6ff2b07a3cbc40aa693c360d5efa90d66e914f0ff03b95ec7/contourpy-1.3.0-cp310-cp310-win_amd64.whl.metadata\n",
      "  Downloading contourpy-1.3.0-cp310-cp310-win_amd64.whl.metadata (5.4 kB)\n",
      "Collecting cycler>=0.10 (from matplotlib)\n",
      "  Obtaining dependency information for cycler>=0.10 from https://files.pythonhosted.org/packages/e7/05/c19819d5e3d95294a6f5947fb9b9629efb316b96de511b418c53d245aae6/cycler-0.12.1-py3-none-any.whl.metadata\n",
      "  Using cached cycler-0.12.1-py3-none-any.whl.metadata (3.8 kB)\n",
      "Collecting fonttools>=4.22.0 (from matplotlib)\n",
      "  Obtaining dependency information for fonttools>=4.22.0 from https://files.pythonhosted.org/packages/70/11/7b81b12a5614b5d237ab70c38bdc268de3eb3880ce7bb1269122e0a415ea/fonttools-4.53.1-cp310-cp310-win_amd64.whl.metadata\n",
      "  Using cached fonttools-4.53.1-cp310-cp310-win_amd64.whl.metadata (165 kB)\n",
      "Collecting kiwisolver>=1.3.1 (from matplotlib)\n",
      "  Obtaining dependency information for kiwisolver>=1.3.1 from https://files.pythonhosted.org/packages/12/ca/d0f7b7ffbb0be1e7c2258b53554efec1fd652921f10d7d85045aff93ab61/kiwisolver-1.4.7-cp310-cp310-win_amd64.whl.metadata\n",
      "  Downloading kiwisolver-1.4.7-cp310-cp310-win_amd64.whl.metadata (6.4 kB)\n",
      "Requirement already satisfied: numpy>=1.23 in c:\\users\\97254\\desktop\\git\\autosam\\.venv\\lib\\site-packages (from matplotlib) (2.0.1)\n",
      "Requirement already satisfied: packaging>=20.0 in c:\\users\\97254\\desktop\\git\\autosam\\.venv\\lib\\site-packages (from matplotlib) (24.1)\n",
      "Requirement already satisfied: pillow>=8 in c:\\users\\97254\\desktop\\git\\autosam\\.venv\\lib\\site-packages (from matplotlib) (10.4.0)\n",
      "Collecting pyparsing>=2.3.1 (from matplotlib)\n",
      "  Obtaining dependency information for pyparsing>=2.3.1 from https://files.pythonhosted.org/packages/e5/0c/0e3c05b1c87bb6a1c76d281b0f35e78d2d80ac91b5f8f524cebf77f51049/pyparsing-3.1.4-py3-none-any.whl.metadata\n",
      "  Downloading pyparsing-3.1.4-py3-none-any.whl.metadata (5.1 kB)\n",
      "Requirement already satisfied: python-dateutil>=2.7 in c:\\users\\97254\\desktop\\git\\autosam\\.venv\\lib\\site-packages (from matplotlib) (2.9.0.post0)\n",
      "Requirement already satisfied: six>=1.5 in c:\\users\\97254\\desktop\\git\\autosam\\.venv\\lib\\site-packages (from python-dateutil>=2.7->matplotlib) (1.16.0)\n",
      "Downloading matplotlib-3.9.2-cp310-cp310-win_amd64.whl (7.8 MB)\n",
      "   ---------------------------------------- 0.0/7.8 MB ? eta -:--:--\n",
      "   ---------------------------------------- 0.0/7.8 MB 1.4 MB/s eta 0:00:06\n",
      "   ---------------------------------------- 0.1/7.8 MB 787.7 kB/s eta 0:00:10\n",
      "    --------------------------------------- 0.1/7.8 MB 1.1 MB/s eta 0:00:08\n",
      "   - -------------------------------------- 0.3/7.8 MB 1.7 MB/s eta 0:00:05\n",
      "   -- ------------------------------------- 0.5/7.8 MB 2.4 MB/s eta 0:00:04\n",
      "   ---- ----------------------------------- 0.8/7.8 MB 3.0 MB/s eta 0:00:03\n",
      "   ------ --------------------------------- 1.3/7.8 MB 4.0 MB/s eta 0:00:02\n",
      "   ----------- ---------------------------- 2.3/7.8 MB 6.3 MB/s eta 0:00:01\n",
      "   --------------- ------------------------ 3.1/7.8 MB 7.3 MB/s eta 0:00:01\n",
      "   ---------------------- ----------------- 4.4/7.8 MB 9.7 MB/s eta 0:00:01\n",
      "   -------------------------------- ------- 6.4/7.8 MB 12.5 MB/s eta 0:00:01\n",
      "   ---------------------------------------  7.8/7.8 MB 14.7 MB/s eta 0:00:01\n",
      "   ---------------------------------------- 7.8/7.8 MB 13.9 MB/s eta 0:00:00\n",
      "Downloading contourpy-1.3.0-cp310-cp310-win_amd64.whl (216 kB)\n",
      "   ---------------------------------------- 0.0/216.0 kB ? eta -:--:--\n",
      "   ---------------------------------------- 216.0/216.0 kB ? eta 0:00:00\n",
      "Using cached cycler-0.12.1-py3-none-any.whl (8.3 kB)\n",
      "Using cached fonttools-4.53.1-cp310-cp310-win_amd64.whl (2.2 MB)\n",
      "Downloading kiwisolver-1.4.7-cp310-cp310-win_amd64.whl (55 kB)\n",
      "   ---------------------------------------- 0.0/55.9 kB ? eta -:--:--\n",
      "   ---------------------------------------- 55.9/55.9 kB ? eta 0:00:00\n",
      "Downloading pyparsing-3.1.4-py3-none-any.whl (104 kB)\n",
      "   ---------------------------------------- 0.0/104.1 kB ? eta -:--:--\n",
      "   ---------------------------------------- 104.1/104.1 kB 6.3 MB/s eta 0:00:00\n",
      "Installing collected packages: pyparsing, kiwisolver, fonttools, cycler, contourpy, matplotlib\n",
      "Successfully installed contourpy-1.3.0 cycler-0.12.1 fonttools-4.53.1 kiwisolver-1.4.7 matplotlib-3.9.2 pyparsing-3.1.4\n"
     ]
    },
    {
     "name": "stderr",
     "output_type": "stream",
     "text": [
      "\n",
      "[notice] A new release of pip is available: 23.2.1 -> 24.2\n",
      "[notice] To update, run: python.exe -m pip install --upgrade pip\n"
     ]
    }
   ],
   "execution_count": 23
  },
  {
   "metadata": {
    "ExecuteTime": {
     "end_time": "2024-09-06T14:48:21.963095Z",
     "start_time": "2024-09-06T14:48:20.596181Z"
    }
   },
   "cell_type": "code",
   "source": [
    "import os\n",
    "import nibabel as nib\n",
    "import matplotlib.pyplot as plt"
   ],
   "id": "c01dff32f8b8623b",
   "outputs": [],
   "execution_count": 24
  },
  {
   "metadata": {},
   "cell_type": "code",
   "outputs": [],
   "execution_count": 1,
   "source": [
    "\n",
    "dataset_path = r'C:\\Users\\97254\\Desktop\\Resources\\TAU\\DL_Medival_imaging\\project\\datasets\\segthor\\train\\train'"
   ],
   "id": "84555495596e173e"
  },
  {
   "metadata": {
    "ExecuteTime": {
     "end_time": "2024-09-06T14:45:13.576121Z",
     "start_time": "2024-09-06T14:45:13.545415Z"
    }
   },
   "cell_type": "code",
   "source": [
    "patient_dir = os.path.join(dataset_path,os.listdir(dataset_path)[0])\n",
    "print(patient_dir)"
   ],
   "id": "a88810a78925f4a1",
   "outputs": [
    {
     "name": "stdout",
     "output_type": "stream",
     "text": [
      "C:\\Users\\97254\\Desktop\\Resources\\TAU\\DL_Medival_imaging\\project\\datasets\\segthor\\train\\train\\Patient_01\n"
     ]
    }
   ],
   "execution_count": 14
  },
  {
   "metadata": {
    "ExecuteTime": {
     "end_time": "2024-09-06T14:45:52.586207Z",
     "start_time": "2024-09-06T14:45:52.570455Z"
    }
   },
   "cell_type": "code",
   "source": "patient_id = os.path.basename(patient_dir)",
   "id": "891dd74a287f8c30",
   "outputs": [],
   "execution_count": 16
  },
  {
   "metadata": {
    "ExecuteTime": {
     "end_time": "2024-09-06T14:46:05.476728Z",
     "start_time": "2024-09-06T14:46:05.445424Z"
    }
   },
   "cell_type": "code",
   "source": [
    "gt_path = os.path.join(patient_dir,'GT.nii.gz')\n",
    "patient_path = os.path.join(patient_dir, patient_id + '.nii.gz')"
   ],
   "id": "46868f8403416b61",
   "outputs": [],
   "execution_count": 17
  },
  {
   "metadata": {
    "ExecuteTime": {
     "end_time": "2024-09-06T14:46:23.132994Z",
     "start_time": "2024-09-06T14:46:23.104368Z"
    }
   },
   "cell_type": "code",
   "source": "img = nib.load(gt_path)",
   "id": "bf76f4a11824051c",
   "outputs": [],
   "execution_count": 18
  },
  {
   "metadata": {
    "ExecuteTime": {
     "end_time": "2024-09-06T14:46:46.849729Z",
     "start_time": "2024-09-06T14:46:46.280857Z"
    }
   },
   "cell_type": "code",
   "source": "image_data = img.get_fdata()",
   "id": "463eb4faf4efa36d",
   "outputs": [],
   "execution_count": 20
  },
  {
   "metadata": {
    "ExecuteTime": {
     "end_time": "2024-09-06T14:48:45.370937Z",
     "start_time": "2024-09-06T14:48:45.342936Z"
    }
   },
   "cell_type": "code",
   "source": "image_data.shape",
   "id": "9965e8a3f1106400",
   "outputs": [
    {
     "data": {
      "text/plain": [
       "(512, 512, 229)"
      ]
     },
     "execution_count": 26,
     "metadata": {},
     "output_type": "execute_result"
    }
   ],
   "execution_count": 26
  },
  {
   "metadata": {
    "ExecuteTime": {
     "end_time": "2024-09-06T14:48:33.452366Z",
     "start_time": "2024-09-06T14:48:33.317629Z"
    }
   },
   "cell_type": "code",
   "source": [
    "slice_index = image_data.shape[2] // 2\n",
    "plt.imshow(image_data[:, :, slice_index], cmap=\"gray\")\n",
    "plt.title(f\"Slice {slice_index}\")\n",
    "plt.axis('off')  # Turn off axis labels\n",
    "plt.show()"
   ],
   "id": "3aa8da075f073ce5",
   "outputs": [
    {
     "data": {
      "text/plain": [
       "<Figure size 640x480 with 1 Axes>"
      ],
      "image/png": "[encoded data removed]"
     },
     "metadata": {},
     "output_type": "display_data"
    }
   ],
   "execution_count": 25
  },
  {
   "metadata": {},
   "cell_type": "code",
   "outputs": [],
   "execution_count": null,
   "source": "",
   "id": "952fa6ca951de927"
  }
 ],
 "metadata": {
  "kernelspec": {
   "display_name": "Python 3",
   "language": "python",
   "name": "python3"
  },
  "language_info": {
   "codemirror_mode": {
    "name": "ipython",
    "version": 2
   },
   "file_extension": ".py",
   "mimetype": "text/x-python",
   "name": "python",
   "nbconvert_exporter": "python",
   "pygments_lexer": "ipython2",
   "version": "2.7.6"
  }
 },
 "nbformat": 4,
 "nbformat_minor": 5
}
