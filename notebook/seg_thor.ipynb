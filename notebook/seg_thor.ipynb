{
 "cells": [
  {
   "metadata": {
    "ExecuteTime": {
     "end_time": "2024-09-06T14:58:21.942413Z",
     "start_time": "2024-09-06T14:58:17.540329Z"
    }
   },
   "cell_type": "code",
   "source": [
    "! pip install nibabel\n",
    "! pip install matplotlib\n",
    "! pip install ipywidgets"
   ],
   "id": "975b9a2809b97e2d",
   "outputs": [
    {
     "name": "stdout",
     "output_type": "stream",
     "text": [
      "Requirement already satisfied: nibabel in c:\\users\\97254\\desktop\\git\\autosam\\.venv\\lib\\site-packages (5.2.1)\n",
      "Requirement already satisfied: numpy>=1.20 in c:\\users\\97254\\desktop\\git\\autosam\\.venv\\lib\\site-packages (from nibabel) (2.0.1)\n",
      "Requirement already satisfied: packaging>=17 in c:\\users\\97254\\desktop\\git\\autosam\\.venv\\lib\\site-packages (from nibabel) (24.1)\n"
     ]
    },
    {
     "name": "stderr",
     "output_type": "stream",
     "text": [
      "\n",
      "[notice] A new release of pip is available: 23.2.1 -> 24.2\n",
      "[notice] To update, run: python.exe -m pip install --upgrade pip\n"
     ]
    },
    {
     "name": "stdout",
     "output_type": "stream",
     "text": [
      "Requirement already satisfied: matplotlib in c:\\users\\97254\\desktop\\git\\autosam\\.venv\\lib\\site-packages (3.9.2)\n",
      "Requirement already satisfied: contourpy>=1.0.1 in c:\\users\\97254\\desktop\\git\\autosam\\.venv\\lib\\site-packages (from matplotlib) (1.3.0)\n",
      "Requirement already satisfied: cycler>=0.10 in c:\\users\\97254\\desktop\\git\\autosam\\.venv\\lib\\site-packages (from matplotlib) (0.12.1)\n",
      "Requirement already satisfied: fonttools>=4.22.0 in c:\\users\\97254\\desktop\\git\\autosam\\.venv\\lib\\site-packages (from matplotlib) (4.53.1)\n",
      "Requirement already satisfied: kiwisolver>=1.3.1 in c:\\users\\97254\\desktop\\git\\autosam\\.venv\\lib\\site-packages (from matplotlib) (1.4.7)\n",
      "Requirement already satisfied: numpy>=1.23 in c:\\users\\97254\\desktop\\git\\autosam\\.venv\\lib\\site-packages (from matplotlib) (2.0.1)\n",
      "Requirement already satisfied: packaging>=20.0 in c:\\users\\97254\\desktop\\git\\autosam\\.venv\\lib\\site-packages (from matplotlib) (24.1)\n",
      "Requirement already satisfied: pillow>=8 in c:\\users\\97254\\desktop\\git\\autosam\\.venv\\lib\\site-packages (from matplotlib) (10.4.0)\n",
      "Requirement already satisfied: pyparsing>=2.3.1 in c:\\users\\97254\\desktop\\git\\autosam\\.venv\\lib\\site-packages (from matplotlib) (3.1.4)\n",
      "Requirement already satisfied: python-dateutil>=2.7 in c:\\users\\97254\\desktop\\git\\autosam\\.venv\\lib\\site-packages (from matplotlib) (2.9.0.post0)\n",
      "Requirement already satisfied: six>=1.5 in c:\\users\\97254\\desktop\\git\\autosam\\.venv\\lib\\site-packages (from python-dateutil>=2.7->matplotlib) (1.16.0)\n"
     ]
    },
    {
     "name": "stderr",
     "output_type": "stream",
     "text": [
      "\n",
      "[notice] A new release of pip is available: 23.2.1 -> 24.2\n",
      "[notice] To update, run: python.exe -m pip install --upgrade pip\n"
     ]
    },
    {
     "name": "stdout",
     "output_type": "stream",
     "text": [
      "Requirement already satisfied: ipywidgets in c:\\users\\97254\\desktop\\git\\autosam\\.venv\\lib\\site-packages (8.1.3)\n",
      "Requirement already satisfied: comm>=0.1.3 in c:\\users\\97254\\desktop\\git\\autosam\\.venv\\lib\\site-packages (from ipywidgets) (0.2.2)\n",
      "Requirement already satisfied: ipython>=6.1.0 in c:\\users\\97254\\desktop\\git\\autosam\\.venv\\lib\\site-packages (from ipywidgets) (8.26.0)\n",
      "Requirement already satisfied: traitlets>=4.3.1 in c:\\users\\97254\\desktop\\git\\autosam\\.venv\\lib\\site-packages (from ipywidgets) (5.14.3)\n",
      "Requirement already satisfied: widgetsnbextension~=4.0.11 in c:\\users\\97254\\desktop\\git\\autosam\\.venv\\lib\\site-packages (from ipywidgets) (4.0.11)\n",
      "Requirement already satisfied: jupyterlab-widgets~=3.0.11 in c:\\users\\97254\\desktop\\git\\autosam\\.venv\\lib\\site-packages (from ipywidgets) (3.0.11)\n",
      "Requirement already satisfied: decorator in c:\\users\\97254\\desktop\\git\\autosam\\.venv\\lib\\site-packages (from ipython>=6.1.0->ipywidgets) (5.1.1)\n",
      "Requirement already satisfied: jedi>=0.16 in c:\\users\\97254\\desktop\\git\\autosam\\.venv\\lib\\site-packages (from ipython>=6.1.0->ipywidgets) (0.19.1)\n",
      "Requirement already satisfied: matplotlib-inline in c:\\users\\97254\\desktop\\git\\autosam\\.venv\\lib\\site-packages (from ipython>=6.1.0->ipywidgets) (0.1.7)\n",
      "Requirement already satisfied: prompt-toolkit<3.1.0,>=3.0.41 in c:\\users\\97254\\desktop\\git\\autosam\\.venv\\lib\\site-packages (from ipython>=6.1.0->ipywidgets) (3.0.47)\n",
      "Requirement already satisfied: pygments>=2.4.0 in c:\\users\\97254\\desktop\\git\\autosam\\.venv\\lib\\site-packages (from ipython>=6.1.0->ipywidgets) (2.18.0)\n",
      "Requirement already satisfied: stack-data in c:\\users\\97254\\desktop\\git\\autosam\\.venv\\lib\\site-packages (from ipython>=6.1.0->ipywidgets) (0.6.3)\n",
      "Requirement already satisfied: exceptiongroup in c:\\users\\97254\\desktop\\git\\autosam\\.venv\\lib\\site-packages (from ipython>=6.1.0->ipywidgets) (1.2.2)\n",
      "Requirement already satisfied: typing-extensions>=4.6 in c:\\users\\97254\\desktop\\git\\autosam\\.venv\\lib\\site-packages (from ipython>=6.1.0->ipywidgets) (4.12.2)\n",
      "Requirement already satisfied: colorama in c:\\users\\97254\\desktop\\git\\autosam\\.venv\\lib\\site-packages (from ipython>=6.1.0->ipywidgets) (0.4.6)\n",
      "Requirement already satisfied: parso<0.9.0,>=0.8.3 in c:\\users\\97254\\desktop\\git\\autosam\\.venv\\lib\\site-packages (from jedi>=0.16->ipython>=6.1.0->ipywidgets) (0.8.4)\n",
      "Requirement already satisfied: wcwidth in c:\\users\\97254\\desktop\\git\\autosam\\.venv\\lib\\site-packages (from prompt-toolkit<3.1.0,>=3.0.41->ipython>=6.1.0->ipywidgets) (0.2.13)\n",
      "Requirement already satisfied: executing>=1.2.0 in c:\\users\\97254\\desktop\\git\\autosam\\.venv\\lib\\site-packages (from stack-data->ipython>=6.1.0->ipywidgets) (2.0.1)\n",
      "Requirement already satisfied: asttokens>=2.1.0 in c:\\users\\97254\\desktop\\git\\autosam\\.venv\\lib\\site-packages (from stack-data->ipython>=6.1.0->ipywidgets) (2.4.1)\n",
      "Requirement already satisfied: pure-eval in c:\\users\\97254\\desktop\\git\\autosam\\.venv\\lib\\site-packages (from stack-data->ipython>=6.1.0->ipywidgets) (0.2.3)\n",
      "Requirement already satisfied: six>=1.12.0 in c:\\users\\97254\\desktop\\git\\autosam\\.venv\\lib\\site-packages (from asttokens>=2.1.0->stack-data->ipython>=6.1.0->ipywidgets) (1.16.0)\n"
     ]
    },
    {
     "name": "stderr",
     "output_type": "stream",
     "text": [
      "\n",
      "[notice] A new release of pip is available: 23.2.1 -> 24.2\n",
      "[notice] To update, run: python.exe -m pip install --upgrade pip\n"
     ]
    }
   ],
   "execution_count": 55
  },
  {
   "metadata": {},
   "cell_type": "markdown",
   "source": "#### Imports",
   "id": "ae9ffc6d256a7c"
  },
  {
   "metadata": {
    "ExecuteTime": {
     "end_time": "2024-09-06T14:58:21.958514Z",
     "start_time": "2024-09-06T14:58:21.942413Z"
    }
   },
   "cell_type": "code",
   "source": [
    "import os\n",
    "import numpy as np\n",
    "import nibabel as nib\n",
    "import ipywidgets as widgets\n",
    "import matplotlib.pyplot as plt\n",
    "from IPython.display import display"
   ],
   "id": "c01dff32f8b8623b",
   "outputs": [],
   "execution_count": 56
  },
  {
   "metadata": {},
   "cell_type": "markdown",
   "source": "#### Functions",
   "id": "ad59487e176d37c0"
  },
  {
   "metadata": {
    "ExecuteTime": {
     "end_time": "2024-09-06T14:58:21.974234Z",
     "start_time": "2024-09-06T14:58:21.958514Z"
    }
   },
   "cell_type": "code",
   "source": [
    "def display_slice(slice_index):\n",
    "    plt.figure(figsize=(6, 6))\n",
    "    plt.imshow(image_data[:, :, slice_index], cmap=\"gray\")\n",
    "    plt.title(f\"Slice {slice_index + 1}\")\n",
    "    plt.axis('off')  # Turn off axis labels\n",
    "    plt.show()"
   ],
   "id": "d30d134b079bf29f",
   "outputs": [],
   "execution_count": 57
  },
  {
   "metadata": {},
   "cell_type": "markdown",
   "source": "#### Input",
   "id": "be1190d211d79742"
  },
  {
   "metadata": {
    "ExecuteTime": {
     "end_time": "2024-09-06T14:58:21.990114Z",
     "start_time": "2024-09-06T14:58:21.975036Z"
    }
   },
   "cell_type": "code",
   "source": "dataset_path = r'C:\\Users\\97254\\Desktop\\Resources\\TAU\\DL_Medival_imaging\\project\\datasets\\segthor\\train\\train'",
   "id": "84555495596e173e",
   "outputs": [],
   "execution_count": 58
  },
  {
   "metadata": {
    "ExecuteTime": {
     "end_time": "2024-09-06T14:58:22.001305Z",
     "start_time": "2024-09-06T14:58:21.990114Z"
    }
   },
   "cell_type": "code",
   "source": "patient_dir = os.path.join(dataset_path,os.listdir(dataset_path)[0])",
   "id": "a88810a78925f4a1",
   "outputs": [],
   "execution_count": 59
  },
  {
   "metadata": {
    "ExecuteTime": {
     "end_time": "2024-09-06T14:58:22.017024Z",
     "start_time": "2024-09-06T14:58:22.001305Z"
    }
   },
   "cell_type": "code",
   "source": "patient_id = os.path.basename(patient_dir)",
   "id": "891dd74a287f8c30",
   "outputs": [],
   "execution_count": 60
  },
  {
   "metadata": {
    "ExecuteTime": {
     "end_time": "2024-09-06T14:58:22.032743Z",
     "start_time": "2024-09-06T14:58:22.017024Z"
    }
   },
   "cell_type": "code",
   "source": [
    "gt_path = os.path.join(patient_dir,'GT.nii.gz')\n",
    "patient_path = os.path.join(patient_dir, patient_id + '.nii.gz')"
   ],
   "id": "46868f8403416b61",
   "outputs": [],
   "execution_count": 61
  },
  {
   "metadata": {
    "ExecuteTime": {
     "end_time": "2024-09-06T14:58:22.048865Z",
     "start_time": "2024-09-06T14:58:22.034932Z"
    }
   },
   "cell_type": "code",
   "source": "img = nib.load(gt_path)",
   "id": "bf76f4a11824051c",
   "outputs": [],
   "execution_count": 62
  },
  {
   "metadata": {
    "ExecuteTime": {
     "end_time": "2024-09-06T14:58:22.314789Z",
     "start_time": "2024-09-06T14:58:22.048865Z"
    }
   },
   "cell_type": "code",
   "source": "image_data = img.get_fdata()",
   "id": "463eb4faf4efa36d",
   "outputs": [],
   "execution_count": 63
  },
  {
   "metadata": {
    "ExecuteTime": {
     "end_time": "2024-09-06T14:58:22.330472Z",
     "start_time": "2024-09-06T14:58:22.314789Z"
    }
   },
   "cell_type": "code",
   "source": "num_slices = image_data.shape[2]",
   "id": "9965e8a3f1106400",
   "outputs": [],
   "execution_count": 64
  },
  {
   "metadata": {
    "ExecuteTime": {
     "end_time": "2024-09-06T14:58:22.346318Z",
     "start_time": "2024-09-06T14:58:22.330472Z"
    }
   },
   "cell_type": "code",
   "source": "slider = widgets.IntSlider(min=0, max=num_slices-1, step=1, description=\"Slice\")",
   "id": "952fa6ca951de927",
   "outputs": [],
   "execution_count": 65
  },
  {
   "metadata": {
    "ExecuteTime": {
     "end_time": "2024-09-06T14:58:22.456212Z",
     "start_time": "2024-09-06T14:58:22.346318Z"
    }
   },
   "cell_type": "code",
   "source": "widgets.interact(display_slice, slice_index=slider)",
   "id": "45ec84b831af5136",
   "outputs": [
    {
     "data": {
      "text/plain": [
       "interactive(children=(IntSlider(value=0, description='Slice', max=228), Output()), _dom_classes=('widget-inter…"
      ],
      "application/vnd.jupyter.widget-view+json": {
       "version_major": 2,
       "version_minor": 0,
       "model_id": "d1d6959cfa1243ebb03a6256134c3ac4"
      }
     },
     "metadata": {},
     "output_type": "display_data"
    },
    {
     "data": {
      "text/plain": [
       "<function __main__.display_slice(slice_index)>"
      ]
     },
     "execution_count": 66,
     "metadata": {},
     "output_type": "execute_result"
    }
   ],
   "execution_count": 66
  }
 ],
 "metadata": {
  "kernelspec": {
   "display_name": "Python 3",
   "language": "python",
   "name": "python3"
  },
  "language_info": {
   "codemirror_mode": {
    "name": "ipython",
    "version": 2
   },
   "file_extension": ".py",
   "mimetype": "text/x-python",
   "name": "python",
   "nbconvert_exporter": "python",
   "pygments_lexer": "ipython2",
   "version": "2.7.6"
  }
 },
 "nbformat": 4,
 "nbformat_minor": 5
}
